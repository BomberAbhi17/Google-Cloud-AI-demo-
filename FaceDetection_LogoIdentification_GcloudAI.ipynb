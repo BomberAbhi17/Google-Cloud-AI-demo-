{
  "nbformat": 4,
  "nbformat_minor": 0,
  "metadata": {
    "colab": {
      "name": "FaceDetection_LogoIdentification_GcloudAI.ipynb",
      "provenance": [],
      "collapsed_sections": []
    },
    "kernelspec": {
      "name": "python3",
      "display_name": "Python 3"
    },
    "language_info": {
      "name": "python"
    }
  },
  "cells": [
    {
      "cell_type": "code",
      "execution_count": null,
      "metadata": {
        "colab": {
          "base_uri": "https://localhost:8080/"
        },
        "id": "nvhRxRwXvTa0",
        "outputId": "33f29592-2616-4ba7-eff5-dbafda67f2e1"
      },
      "outputs": [
        {
          "output_type": "stream",
          "name": "stdout",
          "text": [
            "Requirement already satisfied: google-cloud-vision in /usr/local/lib/python3.7/dist-packages (2.7.1)\n",
            "Requirement already satisfied: google-api-core[grpc]!=2.0.*,!=2.1.*,!=2.2.*,!=2.3.0,<3.0.0dev,>=1.31.5 in /usr/local/lib/python3.7/dist-packages (from google-cloud-vision) (2.7.1)\n",
            "Requirement already satisfied: proto-plus>=1.15.0 in /usr/local/lib/python3.7/dist-packages (from google-cloud-vision) (1.20.3)\n",
            "Requirement already satisfied: googleapis-common-protos<2.0dev,>=1.52.0 in /usr/local/lib/python3.7/dist-packages (from google-api-core[grpc]!=2.0.*,!=2.1.*,!=2.2.*,!=2.3.0,<3.0.0dev,>=1.31.5->google-cloud-vision) (1.55.0)\n",
            "Requirement already satisfied: protobuf>=3.12.0 in /usr/local/lib/python3.7/dist-packages (from google-api-core[grpc]!=2.0.*,!=2.1.*,!=2.2.*,!=2.3.0,<3.0.0dev,>=1.31.5->google-cloud-vision) (3.19.4)\n",
            "Requirement already satisfied: requests<3.0.0dev,>=2.18.0 in /usr/local/lib/python3.7/dist-packages (from google-api-core[grpc]!=2.0.*,!=2.1.*,!=2.2.*,!=2.3.0,<3.0.0dev,>=1.31.5->google-cloud-vision) (2.23.0)\n",
            "Requirement already satisfied: google-auth<3.0dev,>=1.25.0 in /usr/local/lib/python3.7/dist-packages (from google-api-core[grpc]!=2.0.*,!=2.1.*,!=2.2.*,!=2.3.0,<3.0.0dev,>=1.31.5->google-cloud-vision) (2.6.2)\n",
            "Requirement already satisfied: grpcio<2.0dev,>=1.33.2 in /usr/local/lib/python3.7/dist-packages (from google-api-core[grpc]!=2.0.*,!=2.1.*,!=2.2.*,!=2.3.0,<3.0.0dev,>=1.31.5->google-cloud-vision) (1.44.0)\n",
            "Requirement already satisfied: grpcio-status<2.0dev,>=1.33.2 in /usr/local/lib/python3.7/dist-packages (from google-api-core[grpc]!=2.0.*,!=2.1.*,!=2.2.*,!=2.3.0,<3.0.0dev,>=1.31.5->google-cloud-vision) (1.44.0)\n",
            "Requirement already satisfied: rsa<5,>=3.1.4 in /usr/local/lib/python3.7/dist-packages (from google-auth<3.0dev,>=1.25.0->google-api-core[grpc]!=2.0.*,!=2.1.*,!=2.2.*,!=2.3.0,<3.0.0dev,>=1.31.5->google-cloud-vision) (4.8)\n",
            "Requirement already satisfied: six>=1.9.0 in /usr/local/lib/python3.7/dist-packages (from google-auth<3.0dev,>=1.25.0->google-api-core[grpc]!=2.0.*,!=2.1.*,!=2.2.*,!=2.3.0,<3.0.0dev,>=1.31.5->google-cloud-vision) (1.15.0)\n",
            "Requirement already satisfied: cachetools<6.0,>=2.0.0 in /usr/local/lib/python3.7/dist-packages (from google-auth<3.0dev,>=1.25.0->google-api-core[grpc]!=2.0.*,!=2.1.*,!=2.2.*,!=2.3.0,<3.0.0dev,>=1.31.5->google-cloud-vision) (4.2.4)\n",
            "Requirement already satisfied: pyasn1-modules>=0.2.1 in /usr/local/lib/python3.7/dist-packages (from google-auth<3.0dev,>=1.25.0->google-api-core[grpc]!=2.0.*,!=2.1.*,!=2.2.*,!=2.3.0,<3.0.0dev,>=1.31.5->google-cloud-vision) (0.2.8)\n",
            "Requirement already satisfied: pyasn1<0.5.0,>=0.4.6 in /usr/local/lib/python3.7/dist-packages (from pyasn1-modules>=0.2.1->google-auth<3.0dev,>=1.25.0->google-api-core[grpc]!=2.0.*,!=2.1.*,!=2.2.*,!=2.3.0,<3.0.0dev,>=1.31.5->google-cloud-vision) (0.4.8)\n",
            "Requirement already satisfied: idna<3,>=2.5 in /usr/local/lib/python3.7/dist-packages (from requests<3.0.0dev,>=2.18.0->google-api-core[grpc]!=2.0.*,!=2.1.*,!=2.2.*,!=2.3.0,<3.0.0dev,>=1.31.5->google-cloud-vision) (2.10)\n",
            "Requirement already satisfied: certifi>=2017.4.17 in /usr/local/lib/python3.7/dist-packages (from requests<3.0.0dev,>=2.18.0->google-api-core[grpc]!=2.0.*,!=2.1.*,!=2.2.*,!=2.3.0,<3.0.0dev,>=1.31.5->google-cloud-vision) (2021.10.8)\n",
            "Requirement already satisfied: urllib3!=1.25.0,!=1.25.1,<1.26,>=1.21.1 in /usr/local/lib/python3.7/dist-packages (from requests<3.0.0dev,>=2.18.0->google-api-core[grpc]!=2.0.*,!=2.1.*,!=2.2.*,!=2.3.0,<3.0.0dev,>=1.31.5->google-cloud-vision) (1.24.3)\n",
            "Requirement already satisfied: chardet<4,>=3.0.2 in /usr/local/lib/python3.7/dist-packages (from requests<3.0.0dev,>=2.18.0->google-api-core[grpc]!=2.0.*,!=2.1.*,!=2.2.*,!=2.3.0,<3.0.0dev,>=1.31.5->google-cloud-vision) (3.0.4)\n",
            "Requirement already satisfied: google-cloud in /usr/local/lib/python3.7/dist-packages (0.34.0)\n",
            "Requirement already satisfied: google-auth in /usr/local/lib/python3.7/dist-packages (2.6.2)\n",
            "Requirement already satisfied: pyasn1-modules>=0.2.1 in /usr/local/lib/python3.7/dist-packages (from google-auth) (0.2.8)\n",
            "Requirement already satisfied: cachetools<6.0,>=2.0.0 in /usr/local/lib/python3.7/dist-packages (from google-auth) (4.2.4)\n",
            "Requirement already satisfied: rsa<5,>=3.1.4 in /usr/local/lib/python3.7/dist-packages (from google-auth) (4.8)\n",
            "Requirement already satisfied: six>=1.9.0 in /usr/local/lib/python3.7/dist-packages (from google-auth) (1.15.0)\n",
            "Requirement already satisfied: pyasn1<0.5.0,>=0.4.6 in /usr/local/lib/python3.7/dist-packages (from pyasn1-modules>=0.2.1->google-auth) (0.4.8)\n"
          ]
        }
      ],
      "source": [
        "!pip install --upgrade google-cloud-vision\n",
        "!pip install --upgrade google-cloud\n",
        "!pip install --upgrade google-auth"
      ]
    },
    {
      "cell_type": "code",
      "source": [
        " \n",
        "import requests \n",
        "from bs4 import BeautifulSoup \n",
        "import os\n",
        "import io\n",
        "from pydrive.auth import GoogleAuth\n",
        "from pydrive.drive import GoogleDrive\n",
        "from google.colab import auth\n",
        " \n",
        "from oauth2client.client import GoogleCredentials\n",
        "from __future__ import print_function\n",
        " \n",
        "\n",
        "from google.cloud import vision\n",
        " "
      ],
      "metadata": {
        "id": "0naJHLftvcbc"
      },
      "execution_count": null,
      "outputs": []
    },
    {
      "cell_type": "code",
      "source": [
        "# Imports Credential File:\n",
        "credential_path = \"assignment2-344813-d48ba7b52eb3.json\"\n",
        "os.environ['GOOGLE_APPLICATION_CREDENTIALS'] = credential_path\n",
        "print(\"Service Account Key: {}\".format(os.environ[\"GOOGLE_APPLICATION_CREDENTIALS\"]))"
      ],
      "metadata": {
        "id": "ehwKPWLyvfnD",
        "colab": {
          "base_uri": "https://localhost:8080/"
        },
        "outputId": "b893edac-760b-45e9-cfc4-421b925d6b0d"
      },
      "execution_count": null,
      "outputs": [
        {
          "output_type": "stream",
          "name": "stdout",
          "text": [
            "Service Account Key: assignment2-344813-d48ba7b52eb3.json\n"
          ]
        }
      ]
    },
    {
      "cell_type": "code",
      "source": [
        "# Instantiates a client\n",
        "client = vision.ImageAnnotatorClient()"
      ],
      "metadata": {
        "id": "fQfqkBAjvuKT"
      },
      "execution_count": null,
      "outputs": []
    },
    {
      "cell_type": "code",
      "source": [
        " \n",
        "from PIL import Image, ImageDraw\n",
        "def detect_face(face_file, max_results=4):\n",
        "    \"\"\"Uses the Vision API to detect faces in the given file.\n",
        "\n",
        "    Args:\n",
        "        face_file: A file-like object containing an image with faces.\n",
        "\n",
        "    Returns:\n",
        "        An array of Face objects with information about the picture.\n",
        "    \"\"\"\n",
        "    client = vision.ImageAnnotatorClient()\n",
        "\n",
        "    content = face_file.read()\n",
        "    image = vision.Image(content=content)\n",
        "\n",
        "    return client.face_detection(\n",
        "        image=image, max_results=max_results).face_annotations"
      ],
      "metadata": {
        "id": "yAgUfwHq0-CH"
      },
      "execution_count": null,
      "outputs": []
    },
    {
      "cell_type": "code",
      "source": [
        "def highlight_faces(image, faces, output_filename):\n",
        "    \"\"\"Draws a polygon around the faces, then saves to output_filename.\n",
        "\n",
        "    Args:\n",
        "      image: a file containing the image with the faces.\n",
        "      faces: a list of faces found in the file. This should be in the format\n",
        "          returned by the Vision API.\n",
        "      output_filename: the name of the image file to be created, where the\n",
        "          faces have polygons drawn around them.\n",
        "    \"\"\"\n",
        "    im = Image.open(image)\n",
        "    draw = ImageDraw.Draw(im)\n",
        "    # Sepecify the font-family and the font-size\n",
        "    for face in faces:\n",
        "        box = [(vertex.x, vertex.y)\n",
        "               for vertex in face.bounding_poly.vertices]\n",
        "        draw.line(box + [box[0]], width=5, fill='#00ff00')\n",
        "        # Place the confidence value/score of the detected faces above the\n",
        "        # detection box in the output image\n",
        "        draw.text(((face.bounding_poly.vertices)[0].x,\n",
        "                   (face.bounding_poly.vertices)[0].y - 30),\n",
        "                  str(format(face.detection_confidence, '.3f')) + '%',\n",
        "                  fill='#FF0000')\n",
        "    im.save(output_filename)"
      ],
      "metadata": {
        "id": "SlzlPikm1D8W"
      },
      "execution_count": null,
      "outputs": []
    },
    {
      "cell_type": "code",
      "source": [
        "def detect_logos(path):\n",
        "    \"\"\"Detects logos in the file.\"\"\"\n",
        "    from google.cloud import vision\n",
        "    import io\n",
        "    client = vision.ImageAnnotatorClient()\n",
        "\n",
        "    with io.open(path, 'rb') as image_file:\n",
        "        content = image_file.read()\n",
        "\n",
        "    image = vision.Image(content=content)\n",
        "\n",
        "    response = client.logo_detection(image=image)\n",
        "    logos = response.logo_annotations\n",
        "    print('Logos:')\n",
        "\n",
        "    for logo in logos:\n",
        "        print(logo.description)\n",
        "\n",
        "    if response.error.message:\n",
        "        raise Exception(\n",
        "            '{}\\nFor more info on error messages, check: '\n",
        "            'https://cloud.google.com/apis/design/errors'.format(\n",
        "                response.error.message))"
      ],
      "metadata": {
        "id": "sf5i4_XgF2vB"
      },
      "execution_count": null,
      "outputs": []
    },
    {
      "cell_type": "code",
      "source": [
        "def main(input_filename, output_filename, max_results):\n",
        "    with open(input_filename, 'rb') as image:\n",
        "        faces = detect_face(image, max_results)\n",
        "        print('Found {} face{}'.format(\n",
        "            len(faces), '' if len(faces) == 1 else 's'))\n",
        "\n",
        "        print('Writing to file {}'.format(output_filename))\n",
        "        detect_logos(input_filename)\n",
        "        # Reset the file pointer, so we can read the file again\n",
        "        image.seek(0)\n",
        "        highlight_faces(image, faces, output_filename)"
      ],
      "metadata": {
        "id": "OgWpGPAh1KMW"
      },
      "execution_count": null,
      "outputs": []
    },
    {
      "cell_type": "code",
      "source": [
        " \n",
        "\n",
        "path_to_img1 = '/content/img_01.png'\n",
        "path_to_img2 = '/content/img_02.jpg'\n",
        "path_to_img3 = '/content/img_03.jpg'\n",
        " "
      ],
      "metadata": {
        "id": "5AQE3Ik2547r"
      },
      "execution_count": null,
      "outputs": []
    },
    {
      "cell_type": "code",
      "source": [
        "out1='out1.jpg'\n",
        "out2='out2.jpg'\n",
        "out3='out3.jpg'\n"
      ],
      "metadata": {
        "id": "KNxLx5Qr6Py6"
      },
      "execution_count": null,
      "outputs": []
    },
    {
      "cell_type": "code",
      "source": [
        "main(path_to_img1, out1, 10)"
      ],
      "metadata": {
        "colab": {
          "base_uri": "https://localhost:8080/"
        },
        "id": "PbLerMAt6H9i",
        "outputId": "46d072ad-60e3-4bb1-d974-10b4e6e2d35d"
      },
      "execution_count": null,
      "outputs": [
        {
          "output_type": "stream",
          "name": "stdout",
          "text": [
            "Found 0 faces\n",
            "Writing to file out1.jpg\n",
            "Logos:\n",
            "Amazon\n"
          ]
        }
      ]
    },
    {
      "cell_type": "code",
      "source": [
        "main(path_to_img2, out2, 10)"
      ],
      "metadata": {
        "colab": {
          "base_uri": "https://localhost:8080/"
        },
        "id": "DUDKnwmwJti2",
        "outputId": "465eea36-1dc4-4298-930e-4bbef9670305"
      },
      "execution_count": null,
      "outputs": [
        {
          "output_type": "stream",
          "name": "stdout",
          "text": [
            "Found 6 faces\n",
            "Writing to file out2.jpg\n",
            "Logos:\n"
          ]
        }
      ]
    },
    {
      "cell_type": "code",
      "source": [
        "main(path_to_img3, out3, 10)"
      ],
      "metadata": {
        "colab": {
          "base_uri": "https://localhost:8080/"
        },
        "id": "aLu_BnSQJul0",
        "outputId": "edc3a1b7-f773-48cc-ad4d-d09032e11866"
      },
      "execution_count": null,
      "outputs": [
        {
          "output_type": "stream",
          "name": "stdout",
          "text": [
            "Found 2 faces\n",
            "Writing to file out3.jpg\n",
            "Logos:\n",
            "Kid Cuisine\n"
          ]
        }
      ]
    },
    {
      "cell_type": "code",
      "source": [
        " \n"
      ],
      "metadata": {
        "id": "gwnFY6vcGbmy"
      },
      "execution_count": null,
      "outputs": []
    }
  ]
}